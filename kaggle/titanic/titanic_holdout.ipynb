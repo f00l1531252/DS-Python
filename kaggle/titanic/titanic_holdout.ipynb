{
 "cells": [
  {
   "cell_type": "code",
   "execution_count": 1,
   "metadata": {},
   "outputs": [],
   "source": [
    "import numpy as np\n",
    "import pandas as pd\n",
    "import matplotlib.pyplot as plt\n",
    "import seaborn as sns\n",
    "\n",
    "import os\n",
    "import pickle\n",
    "import gc\n",
    "\n",
    "from sklearn.preprocessing import StandardScaler, MinMaxScaler, LabelEncoder, OneHotEncoder\n",
    "\n",
    "from sklearn.model_selection import train_test_split, KFold, StratifiedKFold\n",
    "from sklearn.metrics import accuracy_score, roc_auc_score, confusion_matrix\n",
    "import lightgbm as lgb"
   ]
  },
  {
   "cell_type": "code",
   "execution_count": null,
   "metadata": {},
   "outputs": [],
   "source": [
    "# 特徴量エンジニアリング \n",
    "# 1.Ageのnan(177)　-> 各Pclass(1, 2, 3)のAgeの平均を求める。Ageが欠損しているデータのPclassを確認して、classの年齢平均値を代入する。\n",
    "# 2.Cabinのnan(687) -> \n",
    "# 3.Cabin"
   ]
  },
  {
   "cell_type": "code",
   "execution_count": 2,
   "metadata": {},
   "outputs": [
    {
     "data": {
      "text/html": [
       "<div>\n",
       "<style scoped>\n",
       "    .dataframe tbody tr th:only-of-type {\n",
       "        vertical-align: middle;\n",
       "    }\n",
       "\n",
       "    .dataframe tbody tr th {\n",
       "        vertical-align: top;\n",
       "    }\n",
       "\n",
       "    .dataframe thead th {\n",
       "        text-align: right;\n",
       "    }\n",
       "</style>\n",
       "<table border=\"1\" class=\"dataframe\">\n",
       "  <thead>\n",
       "    <tr style=\"text-align: right;\">\n",
       "      <th></th>\n",
       "      <th>PassengerId</th>\n",
       "      <th>Survived</th>\n",
       "      <th>Pclass</th>\n",
       "      <th>Name</th>\n",
       "      <th>Sex</th>\n",
       "      <th>Age</th>\n",
       "      <th>SibSp</th>\n",
       "      <th>Parch</th>\n",
       "      <th>Ticket</th>\n",
       "      <th>Fare</th>\n",
       "      <th>Cabin</th>\n",
       "      <th>Embarked</th>\n",
       "    </tr>\n",
       "  </thead>\n",
       "  <tbody>\n",
       "    <tr>\n",
       "      <th>0</th>\n",
       "      <td>1</td>\n",
       "      <td>0</td>\n",
       "      <td>3</td>\n",
       "      <td>Braund, Mr. Owen Harris</td>\n",
       "      <td>male</td>\n",
       "      <td>22.0</td>\n",
       "      <td>1</td>\n",
       "      <td>0</td>\n",
       "      <td>A/5 21171</td>\n",
       "      <td>7.2500</td>\n",
       "      <td>NaN</td>\n",
       "      <td>S</td>\n",
       "    </tr>\n",
       "    <tr>\n",
       "      <th>1</th>\n",
       "      <td>2</td>\n",
       "      <td>1</td>\n",
       "      <td>1</td>\n",
       "      <td>Cumings, Mrs. John Bradley (Florence Briggs Th...</td>\n",
       "      <td>female</td>\n",
       "      <td>38.0</td>\n",
       "      <td>1</td>\n",
       "      <td>0</td>\n",
       "      <td>PC 17599</td>\n",
       "      <td>71.2833</td>\n",
       "      <td>C85</td>\n",
       "      <td>C</td>\n",
       "    </tr>\n",
       "    <tr>\n",
       "      <th>2</th>\n",
       "      <td>3</td>\n",
       "      <td>1</td>\n",
       "      <td>3</td>\n",
       "      <td>Heikkinen, Miss. Laina</td>\n",
       "      <td>female</td>\n",
       "      <td>26.0</td>\n",
       "      <td>0</td>\n",
       "      <td>0</td>\n",
       "      <td>STON/O2. 3101282</td>\n",
       "      <td>7.9250</td>\n",
       "      <td>NaN</td>\n",
       "      <td>S</td>\n",
       "    </tr>\n",
       "  </tbody>\n",
       "</table>\n",
       "</div>"
      ],
      "text/plain": [
       "   PassengerId  Survived  Pclass  \\\n",
       "0            1         0       3   \n",
       "1            2         1       1   \n",
       "2            3         1       3   \n",
       "\n",
       "                                                Name     Sex   Age  SibSp  \\\n",
       "0                            Braund, Mr. Owen Harris    male  22.0      1   \n",
       "1  Cumings, Mrs. John Bradley (Florence Briggs Th...  female  38.0      1   \n",
       "2                             Heikkinen, Miss. Laina  female  26.0      0   \n",
       "\n",
       "   Parch            Ticket     Fare Cabin Embarked  \n",
       "0      0         A/5 21171   7.2500   NaN        S  \n",
       "1      0          PC 17599  71.2833   C85        C  \n",
       "2      0  STON/O2. 3101282   7.9250   NaN        S  "
      ]
     },
     "execution_count": 2,
     "metadata": {},
     "output_type": "execute_result"
    }
   ],
   "source": [
    "df = pd.read_csv('train.csv')\n",
    "df.head(3)"
   ]
  },
  {
   "cell_type": "code",
   "execution_count": 4,
   "metadata": {},
   "outputs": [
    {
     "name": "stdout",
     "output_type": "stream",
     "text": [
      "<class 'pandas.core.frame.DataFrame'>\n",
      "RangeIndex: 891 entries, 0 to 890\n",
      "Data columns (total 12 columns):\n",
      " #   Column       Non-Null Count  Dtype  \n",
      "---  ------       --------------  -----  \n",
      " 0   PassengerId  891 non-null    int64  \n",
      " 1   Survived     891 non-null    int64  \n",
      " 2   Pclass       891 non-null    int64  \n",
      " 3   Name         891 non-null    object \n",
      " 4   Sex          891 non-null    object \n",
      " 5   Age          714 non-null    float64\n",
      " 6   SibSp        891 non-null    int64  \n",
      " 7   Parch        891 non-null    int64  \n",
      " 8   Ticket       891 non-null    object \n",
      " 9   Fare         891 non-null    float64\n",
      " 10  Cabin        204 non-null    object \n",
      " 11  Embarked     889 non-null    object \n",
      "dtypes: float64(2), int64(5), object(5)\n",
      "memory usage: 83.7+ KB\n"
     ]
    }
   ],
   "source": [
    "df.info()"
   ]
  },
  {
   "cell_type": "code",
   "execution_count": 6,
   "metadata": {},
   "outputs": [
    {
     "data": {
      "text/plain": [
       "PassengerId      0\n",
       "Survived         0\n",
       "Pclass           0\n",
       "Name             0\n",
       "Sex              0\n",
       "Age            177\n",
       "SibSp            0\n",
       "Parch            0\n",
       "Ticket           0\n",
       "Fare             0\n",
       "Cabin          687\n",
       "Embarked         2\n",
       "dtype: int64"
      ]
     },
     "execution_count": 6,
     "metadata": {},
     "output_type": "execute_result"
    }
   ],
   "source": [
    "df.isnull().sum()"
   ]
  },
  {
   "cell_type": "code",
   "execution_count": 10,
   "metadata": {},
   "outputs": [
    {
     "data": {
      "text/plain": [
       "pandas.core.series.Series"
      ]
     },
     "execution_count": 10,
     "metadata": {},
     "output_type": "execute_result"
    }
   ],
   "source": [
    "type(df['Fare'])"
   ]
  },
  {
   "cell_type": "markdown",
   "metadata": {},
   "source": [
    "## ベースライン作成"
   ]
  },
  {
   "cell_type": "markdown",
   "metadata": {},
   "source": [
    "### データセットの作成"
   ]
  },
  {
   "cell_type": "code",
   "execution_count": 3,
   "metadata": {},
   "outputs": [],
   "source": [
    "x_train, y_train, id_train = df[['Pclass', 'Fare']], df[['Survived']], df[['PassengerId']]"
   ]
  },
  {
   "cell_type": "code",
   "execution_count": 4,
   "metadata": {},
   "outputs": [
    {
     "name": "stdout",
     "output_type": "stream",
     "text": [
      "(891, 2)\n",
      "(891, 1)\n"
     ]
    }
   ],
   "source": [
    "print(x_train.shape)\n",
    "print(y_train.shape)"
   ]
  },
  {
   "cell_type": "markdown",
   "metadata": {},
   "source": [
    "### ベースライン検証用データの作成 "
   ]
  },
  {
   "cell_type": "code",
   "execution_count": 5,
   "metadata": {},
   "outputs": [],
   "source": [
    "# ベースライン検証用データ(x_va, y_va)の作成\n",
    "x_tr, x_va, y_tr, y_va = train_test_split(x_train, y_train,\n",
    "                                          test_size=0.2,\n",
    "                                          shuffle=True,\n",
    "                                          stratify=y_train,\n",
    "                                          random_state=123)"
   ]
  },
  {
   "cell_type": "code",
   "execution_count": 191,
   "metadata": {},
   "outputs": [
    {
     "name": "stdout",
     "output_type": "stream",
     "text": [
      "(712, 2) (712, 1)\n",
      "(179, 2) (179, 1)\n"
     ]
    }
   ],
   "source": [
    "print(x_tr.shape, y_tr.shape)\n",
    "print(x_va.shape, y_va.shape) # ベースライン検証データ"
   ]
  },
  {
   "cell_type": "markdown",
   "metadata": {},
   "source": [
    "### ホールドアウト検証"
   ]
  },
  {
   "cell_type": "code",
   "execution_count": 6,
   "metadata": {},
   "outputs": [],
   "source": [
    "# 学習データ(x_tr1,y_tr1)と検証データ(x_va1,y_va1)の分割\n",
    "x_tr1, x_va1, y_tr1, y_va1 = train_test_split(x_tr, y_tr,\n",
    "                                              test_size=0.2,\n",
    "                                              shuffle=True,\n",
    "                                              stratify=y_tr,\n",
    "                                              random_state=789)"
   ]
  },
  {
   "cell_type": "code",
   "execution_count": 176,
   "metadata": {},
   "outputs": [
    {
     "name": "stdout",
     "output_type": "stream",
     "text": [
      "(712,) (569, 1)\n",
      "(143, 2) (143, 1)\n"
     ]
    }
   ],
   "source": [
    "print(x_tr1.shape, y_tr1.shape) # 学習データ\n",
    "print(x_va1.shape, y_va1.shape) # 検証データ"
   ]
  },
  {
   "cell_type": "markdown",
   "metadata": {},
   "source": [
    "### モデル学習"
   ]
  },
  {
   "cell_type": "code",
   "execution_count": 9,
   "metadata": {},
   "outputs": [
    {
     "name": "stderr",
     "output_type": "stream",
     "text": [
      "/opt/anaconda3/lib/python3.7/site-packages/sklearn/preprocessing/_label.py:98: DataConversionWarning: A column-vector y was passed when a 1d array was expected. Please change the shape of y to (n_samples, ), for example using ravel().\n",
      "  y = column_or_1d(y, warn=True)\n",
      "/opt/anaconda3/lib/python3.7/site-packages/sklearn/preprocessing/_label.py:133: DataConversionWarning: A column-vector y was passed when a 1d array was expected. Please change the shape of y to (n_samples, ), for example using ravel().\n",
      "  y = column_or_1d(y, warn=True)\n"
     ]
    },
    {
     "name": "stdout",
     "output_type": "stream",
     "text": [
      "[1]\ttraining's auc: 0.76929\tvalid_1's auc: 0.719731\n",
      "Training until validation scores don't improve for 100 rounds\n",
      "[2]\ttraining's auc: 0.770505\tvalid_1's auc: 0.719008\n",
      "[3]\ttraining's auc: 0.782483\tvalid_1's auc: 0.726653\n",
      "[4]\ttraining's auc: 0.785181\tvalid_1's auc: 0.727273\n",
      "[5]\ttraining's auc: 0.784534\tvalid_1's auc: 0.727789\n",
      "[6]\ttraining's auc: 0.786508\tvalid_1's auc: 0.727066\n",
      "[7]\ttraining's auc: 0.787396\tvalid_1's auc: 0.729545\n",
      "[8]\ttraining's auc: 0.787449\tvalid_1's auc: 0.727273\n",
      "[9]\ttraining's auc: 0.789004\tvalid_1's auc: 0.729545\n",
      "[10]\ttraining's auc: 0.792153\tvalid_1's auc: 0.72562\n",
      "[11]\ttraining's auc: 0.794937\tvalid_1's auc: 0.725207\n",
      "[12]\ttraining's auc: 0.798609\tvalid_1's auc: 0.717459\n",
      "[13]\ttraining's auc: 0.804673\tvalid_1's auc: 0.718285\n",
      "[14]\ttraining's auc: 0.805667\tvalid_1's auc: 0.717252\n",
      "[15]\ttraining's auc: 0.807287\tvalid_1's auc: 0.715289\n",
      "[16]\ttraining's auc: 0.809287\tvalid_1's auc: 0.709091\n",
      "[17]\ttraining's auc: 0.809764\tvalid_1's auc: 0.710227\n",
      "[18]\ttraining's auc: 0.809659\tvalid_1's auc: 0.707748\n",
      "[19]\ttraining's auc: 0.810509\tvalid_1's auc: 0.715393\n",
      "[20]\ttraining's auc: 0.810025\tvalid_1's auc: 0.712087\n",
      "[21]\ttraining's auc: 0.813129\tvalid_1's auc: 0.715702\n",
      "[22]\ttraining's auc: 0.813501\tvalid_1's auc: 0.714463\n",
      "[23]\ttraining's auc: 0.813456\tvalid_1's auc: 0.719215\n",
      "[24]\ttraining's auc: 0.81454\tvalid_1's auc: 0.720455\n",
      "[25]\ttraining's auc: 0.81769\tvalid_1's auc: 0.72376\n",
      "[26]\ttraining's auc: 0.818696\tvalid_1's auc: 0.723554\n",
      "[27]\ttraining's auc: 0.820108\tvalid_1's auc: 0.72438\n",
      "[28]\ttraining's auc: 0.820428\tvalid_1's auc: 0.719215\n",
      "[29]\ttraining's auc: 0.821447\tvalid_1's auc: 0.719215\n",
      "[30]\ttraining's auc: 0.822545\tvalid_1's auc: 0.72376\n",
      "[31]\ttraining's auc: 0.822558\tvalid_1's auc: 0.715289\n",
      "[32]\ttraining's auc: 0.822793\tvalid_1's auc: 0.721694\n",
      "[33]\ttraining's auc: 0.823022\tvalid_1's auc: 0.723347\n",
      "[34]\ttraining's auc: 0.823662\tvalid_1's auc: 0.720455\n",
      "[35]\ttraining's auc: 0.824669\tvalid_1's auc: 0.72376\n",
      "[36]\ttraining's auc: 0.824551\tvalid_1's auc: 0.721694\n",
      "[37]\ttraining's auc: 0.825976\tvalid_1's auc: 0.725413\n",
      "[38]\ttraining's auc: 0.827191\tvalid_1's auc: 0.72562\n",
      "[39]\ttraining's auc: 0.828067\tvalid_1's auc: 0.719421\n",
      "[40]\ttraining's auc: 0.829204\tvalid_1's auc: 0.719421\n",
      "[41]\ttraining's auc: 0.829426\tvalid_1's auc: 0.717769\n",
      "[42]\ttraining's auc: 0.831229\tvalid_1's auc: 0.722107\n",
      "[43]\ttraining's auc: 0.830785\tvalid_1's auc: 0.717149\n",
      "[44]\ttraining's auc: 0.833438\tvalid_1's auc: 0.724793\n",
      "[45]\ttraining's auc: 0.833085\tvalid_1's auc: 0.716736\n",
      "[46]\ttraining's auc: 0.834706\tvalid_1's auc: 0.724174\n",
      "[47]\ttraining's auc: 0.834575\tvalid_1's auc: 0.723554\n",
      "[48]\ttraining's auc: 0.835568\tvalid_1's auc: 0.724587\n",
      "[49]\ttraining's auc: 0.835189\tvalid_1's auc: 0.725207\n",
      "[50]\ttraining's auc: 0.836699\tvalid_1's auc: 0.720455\n",
      "[51]\ttraining's auc: 0.837927\tvalid_1's auc: 0.722314\n",
      "[52]\ttraining's auc: 0.83845\tvalid_1's auc: 0.721901\n",
      "[53]\ttraining's auc: 0.838607\tvalid_1's auc: 0.723554\n",
      "[54]\ttraining's auc: 0.838437\tvalid_1's auc: 0.723967\n",
      "[55]\ttraining's auc: 0.838228\tvalid_1's auc: 0.721488\n",
      "[56]\ttraining's auc: 0.838946\tvalid_1's auc: 0.721694\n",
      "[57]\ttraining's auc: 0.839887\tvalid_1's auc: 0.719421\n",
      "[58]\ttraining's auc: 0.840443\tvalid_1's auc: 0.717562\n",
      "[59]\ttraining's auc: 0.84109\tvalid_1's auc: 0.719215\n",
      "[60]\ttraining's auc: 0.841808\tvalid_1's auc: 0.716322\n",
      "[61]\ttraining's auc: 0.842187\tvalid_1's auc: 0.718285\n",
      "[62]\ttraining's auc: 0.843083\tvalid_1's auc: 0.719318\n",
      "[63]\ttraining's auc: 0.843664\tvalid_1's auc: 0.720971\n",
      "[64]\ttraining's auc: 0.843638\tvalid_1's auc: 0.720971\n",
      "[65]\ttraining's auc: 0.845089\tvalid_1's auc: 0.716426\n",
      "[66]\ttraining's auc: 0.845232\tvalid_1's auc: 0.718698\n",
      "[67]\ttraining's auc: 0.845415\tvalid_1's auc: 0.715806\n",
      "[68]\ttraining's auc: 0.846121\tvalid_1's auc: 0.713843\n",
      "[69]\ttraining's auc: 0.846265\tvalid_1's auc: 0.71405\n",
      "[70]\ttraining's auc: 0.84684\tvalid_1's auc: 0.71281\n",
      "[71]\ttraining's auc: 0.84701\tvalid_1's auc: 0.714669\n",
      "[72]\ttraining's auc: 0.847297\tvalid_1's auc: 0.71405\n",
      "[73]\ttraining's auc: 0.84914\tvalid_1's auc: 0.719008\n",
      "[74]\ttraining's auc: 0.848474\tvalid_1's auc: 0.716322\n",
      "[75]\ttraining's auc: 0.848578\tvalid_1's auc: 0.715289\n",
      "[76]\ttraining's auc: 0.849532\tvalid_1's auc: 0.718595\n",
      "[77]\ttraining's auc: 0.85029\tvalid_1's auc: 0.717149\n",
      "[78]\ttraining's auc: 0.850734\tvalid_1's auc: 0.716736\n",
      "[79]\ttraining's auc: 0.850473\tvalid_1's auc: 0.715909\n",
      "[80]\ttraining's auc: 0.851009\tvalid_1's auc: 0.716529\n",
      "[81]\ttraining's auc: 0.851362\tvalid_1's auc: 0.716942\n",
      "[82]\ttraining's auc: 0.851728\tvalid_1's auc: 0.717355\n",
      "[83]\ttraining's auc: 0.851885\tvalid_1's auc: 0.71219\n",
      "[84]\ttraining's auc: 0.851401\tvalid_1's auc: 0.716529\n",
      "[85]\ttraining's auc: 0.851963\tvalid_1's auc: 0.717769\n",
      "[86]\ttraining's auc: 0.852682\tvalid_1's auc: 0.717562\n",
      "[87]\ttraining's auc: 0.853178\tvalid_1's auc: 0.717769\n",
      "[88]\ttraining's auc: 0.853806\tvalid_1's auc: 0.717975\n",
      "[89]\ttraining's auc: 0.854707\tvalid_1's auc: 0.720868\n",
      "[90]\ttraining's auc: 0.85472\tvalid_1's auc: 0.720041\n",
      "[91]\ttraining's auc: 0.854289\tvalid_1's auc: 0.721074\n",
      "[92]\ttraining's auc: 0.8554\tvalid_1's auc: 0.716322\n",
      "[93]\ttraining's auc: 0.85523\tvalid_1's auc: 0.721694\n",
      "[94]\ttraining's auc: 0.854773\tvalid_1's auc: 0.721901\n",
      "[95]\ttraining's auc: 0.85604\tvalid_1's auc: 0.722521\n",
      "[96]\ttraining's auc: 0.856184\tvalid_1's auc: 0.722521\n",
      "[97]\ttraining's auc: 0.855844\tvalid_1's auc: 0.721694\n",
      "[98]\ttraining's auc: 0.856485\tvalid_1's auc: 0.72314\n",
      "[99]\ttraining's auc: 0.856406\tvalid_1's auc: 0.72314\n",
      "[100]\ttraining's auc: 0.856354\tvalid_1's auc: 0.722934\n",
      "[101]\ttraining's auc: 0.857047\tvalid_1's auc: 0.723347\n",
      "[102]\ttraining's auc: 0.857556\tvalid_1's auc: 0.723554\n",
      "[103]\ttraining's auc: 0.857654\tvalid_1's auc: 0.723037\n",
      "[104]\ttraining's auc: 0.85772\tvalid_1's auc: 0.722417\n",
      "[105]\ttraining's auc: 0.857759\tvalid_1's auc: 0.723244\n",
      "[106]\ttraining's auc: 0.857929\tvalid_1's auc: 0.723657\n",
      "[107]\ttraining's auc: 0.858439\tvalid_1's auc: 0.72345\n",
      "Early stopping, best iteration is:\n",
      "[7]\ttraining's auc: 0.787396\tvalid_1's auc: 0.729545\n"
     ]
    },
    {
     "data": {
      "text/plain": [
       "LGBMClassifier(importance_type='gain', metric='auc', n_estimators=100000,\n",
       "               num_leaves=16, objective='binary', random_state=123)"
      ]
     },
     "execution_count": 9,
     "metadata": {},
     "output_type": "execute_result"
    }
   ],
   "source": [
    "# ハイパーパラメータ\n",
    "params = {\n",
    "    'boosting_type': 'gbdt',\n",
    "    'objective': 'binary',\n",
    "    'metric': 'auc',\n",
    "    'learning_rate': 0.1,\n",
    "    'num_leaves': 16,\n",
    "    'n_estimators': 100000,\n",
    "    'random_state': 123,\n",
    "    'importance_type': 'gain'\n",
    "}\n",
    "\n",
    "model = lgb.LGBMClassifier(**params)\n",
    "model.fit(x_tr1, y_tr1,\n",
    "          eval_set=[(x_tr1, y_tr1), (x_va1, y_va1)],\n",
    "          callbacks=[lgb.early_stopping(stopping_rounds=100,\n",
    "                                        verbose=10)])"
   ]
  },
  {
   "cell_type": "markdown",
   "metadata": {},
   "source": [
    "### 精度の評価"
   ]
  },
  {
   "cell_type": "code",
   "execution_count": 16,
   "metadata": {},
   "outputs": [
    {
     "name": "stdout",
     "output_type": "stream",
     "text": [
      "[検証用データ]acc：0.7133\n",
      "[ベースライン検証用データ]acc：0.7095\n"
     ]
    }
   ],
   "source": [
    "# 予測値算出\n",
    "y_va1_pred = model.predict(x_va1) # 検証データ\n",
    "y_va_pred = model.predict(x_va) # ベースライン検証用データ\n",
    "\n",
    "# 精度評価\n",
    "metric_va1 = accuracy_score(y_va1, y_va1_pred) # 検証データ\n",
    "metric_va = accuracy_score(y_va, y_va_pred) # ベースライン検証用データ\n",
    "print(f'[検証用データ]acc：{metric_va1:.4f}')\n",
    "print(f'[ベースライン検証用データ]acc：{metric_va:.4f}')"
   ]
  },
  {
   "cell_type": "code",
   "execution_count": 13,
   "metadata": {},
   "outputs": [
    {
     "data": {
      "text/html": [
       "<div>\n",
       "<style scoped>\n",
       "    .dataframe tbody tr th:only-of-type {\n",
       "        vertical-align: middle;\n",
       "    }\n",
       "\n",
       "    .dataframe tbody tr th {\n",
       "        vertical-align: top;\n",
       "    }\n",
       "\n",
       "    .dataframe thead th {\n",
       "        text-align: right;\n",
       "    }\n",
       "</style>\n",
       "<table border=\"1\" class=\"dataframe\">\n",
       "  <thead>\n",
       "    <tr style=\"text-align: right;\">\n",
       "      <th></th>\n",
       "      <th>col</th>\n",
       "      <th>imp</th>\n",
       "    </tr>\n",
       "  </thead>\n",
       "  <tbody>\n",
       "    <tr>\n",
       "      <th>0</th>\n",
       "      <td>Fare</td>\n",
       "      <td>417.358917</td>\n",
       "    </tr>\n",
       "    <tr>\n",
       "      <th>1</th>\n",
       "      <td>Pclass</td>\n",
       "      <td>133.153509</td>\n",
       "    </tr>\n",
       "  </tbody>\n",
       "</table>\n",
       "</div>"
      ],
      "text/plain": [
       "      col         imp\n",
       "0    Fare  417.358917\n",
       "1  Pclass  133.153509"
      ]
     },
     "execution_count": 13,
     "metadata": {},
     "output_type": "execute_result"
    }
   ],
   "source": [
    "# 説明変数の重要度の算出\n",
    "imp = pd.DataFrame({\n",
    "    'col': x_train.columns,\n",
    "    'imp': model.feature_importances_,\n",
    "})\n",
    "imp.sort_values('imp', ascending=False, ignore_index=True)"
   ]
  },
  {
   "cell_type": "code",
   "execution_count": 17,
   "metadata": {},
   "outputs": [
    {
     "name": "stdout",
     "output_type": "stream",
     "text": [
      "検証用データ\n",
      "[[76 12]\n",
      " [29 26]]\n",
      "[[0.53146853 0.08391608]\n",
      " [0.2027972  0.18181818]]\n",
      "----------------------------------------\n",
      "ベースライン検証用データ\n",
      "[[92 18]\n",
      " [34 35]]\n",
      "[[0.51396648 0.10055866]\n",
      " [0.18994413 0.19553073]]\n"
     ]
    }
   ],
   "source": [
    "# 誤差分布の比較\n",
    "print('検証用データ')\n",
    "print(confusion_matrix(y_va1, y_va1_pred))\n",
    "print(confusion_matrix(y_va1, y_va1_pred, normalize='all'))\n",
    "print('-'*40)\n",
    "print('ベースライン検証用データ')\n",
    "print(confusion_matrix(y_va, y_va_pred))\n",
    "print(confusion_matrix(y_va, y_va_pred, normalize='all'))"
   ]
  },
  {
   "cell_type": "code",
   "execution_count": 25,
   "metadata": {},
   "outputs": [
    {
     "data": {
      "text/plain": [
       "<matplotlib.legend.Legend at 0x7f389b1b61d0>"
      ]
     },
     "execution_count": 25,
     "metadata": {},
     "output_type": "execute_result"
    },
    {
     "data": {
      "image/png": "[encoded data removed]",
      "text/plain": [
       "<Figure size 720x576 with 2 Axes>"
      ]
     },
     "metadata": {
      "needs_background": "light"
     },
     "output_type": "display_data"
    }
   ],
   "source": [
    "# 予測値の分布比較\n",
    "\n",
    "# 予測値の確率値算出\n",
    "y_va1_pred_prob = model.predict_proba(x_va1)[:,1] # 検証用\n",
    "y_va_pred_prob = model.predict_proba(x_va)[:,1] # ベースライン検証用\n",
    "\n",
    "# 確率値をヒストグラムで可視化\n",
    "fig = plt.figure(figsize=(10,8))\n",
    "\n",
    "# 検証データ\n",
    "fig.add_subplot(2, 1, 1)\n",
    "plt.title('検証データ')\n",
    "plt.hist(y_va1_pred_prob[np.array(y_va1).reshape(-1)==1], bins=10, alpha=0.5, label='1')\n",
    "plt.hist(y_va1_pred_prob[np.array(y_va1).reshape(-1)==0], bins=10, alpha=0.5, label='0')\n",
    "plt.grid()\n",
    "plt.legend()\n",
    "\n",
    "# ベースライン検証データ\n",
    "fig.add_subplot(2, 1, 2)\n",
    "plt.title('ベースライン検証データ')\n",
    "plt.hist(y_va_pred_prob[np.array(y_va).reshape(-1)==1], bins=10, alpha=0.5, label='1')\n",
    "plt.hist(y_va_pred_prob[np.array(y_va).reshape(-1)==0], bins=10, alpha=0.5, label='0')\n",
    "plt.grid()\n",
    "plt.legend()"
   ]
  },
  {
   "cell_type": "markdown",
   "metadata": {},
   "source": [
    "## モデル推論"
   ]
  },
  {
   "cell_type": "code",
   "execution_count": 30,
   "metadata": {},
   "outputs": [],
   "source": [
    "df_test = pd.read_csv('test.csv')\n",
    "x_test = df_test[['Pclass', 'Fare']]\n",
    "id_test = df_test[['PassengerId']]"
   ]
  },
  {
   "cell_type": "code",
   "execution_count": 32,
   "metadata": {},
   "outputs": [],
   "source": [
    "# 学習モデルによる推論\n",
    "y_test_pred = model.predict(x_test)"
   ]
  },
  {
   "cell_type": "code",
   "execution_count": 34,
   "metadata": {},
   "outputs": [
    {
     "data": {
      "text/html": [
       "<div>\n",
       "<style scoped>\n",
       "    .dataframe tbody tr th:only-of-type {\n",
       "        vertical-align: middle;\n",
       "    }\n",
       "\n",
       "    .dataframe tbody tr th {\n",
       "        vertical-align: top;\n",
       "    }\n",
       "\n",
       "    .dataframe thead th {\n",
       "        text-align: right;\n",
       "    }\n",
       "</style>\n",
       "<table border=\"1\" class=\"dataframe\">\n",
       "  <thead>\n",
       "    <tr style=\"text-align: right;\">\n",
       "      <th></th>\n",
       "      <th>PassengerId</th>\n",
       "      <th>Survived</th>\n",
       "    </tr>\n",
       "  </thead>\n",
       "  <tbody>\n",
       "    <tr>\n",
       "      <th>0</th>\n",
       "      <td>892</td>\n",
       "      <td>0</td>\n",
       "    </tr>\n",
       "    <tr>\n",
       "      <th>1</th>\n",
       "      <td>893</td>\n",
       "      <td>0</td>\n",
       "    </tr>\n",
       "    <tr>\n",
       "      <th>2</th>\n",
       "      <td>894</td>\n",
       "      <td>0</td>\n",
       "    </tr>\n",
       "    <tr>\n",
       "      <th>3</th>\n",
       "      <td>895</td>\n",
       "      <td>0</td>\n",
       "    </tr>\n",
       "    <tr>\n",
       "      <th>4</th>\n",
       "      <td>896</td>\n",
       "      <td>0</td>\n",
       "    </tr>\n",
       "  </tbody>\n",
       "</table>\n",
       "</div>"
      ],
      "text/plain": [
       "   PassengerId  Survived\n",
       "0          892         0\n",
       "1          893         0\n",
       "2          894         0\n",
       "3          895         0\n",
       "4          896         0"
      ]
     },
     "metadata": {},
     "output_type": "display_data"
    }
   ],
   "source": [
    "# 提出ファイルの作成\n",
    "df_submit = pd.DataFrame({\n",
    "    'PassengerId': id_test['PassengerId'],\n",
    "    'Survived': y_test_pred,\n",
    "})\n",
    "display(df_submit.head(5))\n",
    "df_submit.to_csv('titanic_submission_baseline.csv', index=None)"
   ]
  },
  {
   "cell_type": "code",
   "execution_count": null,
   "metadata": {},
   "outputs": [],
   "source": []
  }
 ],
 "metadata": {
  "kernelspec": {
   "display_name": "Python 3",
   "language": "python",
   "name": "python3"
  },
  "language_info": {
   "codemirror_mode": {
    "name": "ipython",
    "version": 3
   },
   "file_extension": ".py",
   "mimetype": "text/x-python",
   "name": "python",
   "nbconvert_exporter": "python",
   "pygments_lexer": "ipython3",
   "version": "3.7.6"
  }
 },
 "nbformat": 4,
 "nbformat_minor": 4
}
