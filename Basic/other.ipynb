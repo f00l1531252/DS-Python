{
 "cells": [
  {
   "cell_type": "code",
   "execution_count": 7,
   "metadata": {},
   "outputs": [],
   "source": [
    "from glob import glob\n",
    "import numpy as np\n",
    "import matplotlib.pyplot as plt\n",
    "import pandas as pd\n",
    "import seaborn as sns\n",
    "%matplotlib inline"
   ]
  },
  {
   "cell_type": "markdown",
   "metadata": {},
   "source": [
    "## glob；ファイルのpathのリストを取得"
   ]
  },
  {
   "cell_type": "code",
   "execution_count": 11,
   "metadata": {},
   "outputs": [
    {
     "data": {
      "text/plain": [
       "['../data/png_file/crop_load_rgb.png',\n",
       " '../data/png_file/croped_lenna.png',\n",
       " '../data/png_file/evaluation_score.png',\n",
       " '../data/png_file/runtime_budget_scatter.png',\n",
       " '../data/png_file/sin_cos.png']"
      ]
     },
     "execution_count": 11,
     "metadata": {},
     "output_type": "execute_result"
    }
   ],
   "source": [
    "glob('../data/png*/*.png')"
   ]
  },
  {
   "cell_type": "code",
   "execution_count": 12,
   "metadata": {},
   "outputs": [
    {
     "data": {
      "text/plain": [
       "['../dataset/covid-data/rp_im', '../dataset/covid-data/rp_msk']"
      ]
     },
     "execution_count": 12,
     "metadata": {},
     "output_type": "execute_result"
    }
   ],
   "source": [
    "glob('../dataset/covid-data/*')"
   ]
  },
  {
   "cell_type": "code",
   "execution_count": 13,
   "metadata": {},
   "outputs": [
    {
     "data": {
      "text/plain": [
       "['../dataset/covid-data/rp_im/1.nii.gz',\n",
       " '../dataset/covid-data/rp_im/2.nii.gz',\n",
       " '../dataset/covid-data/rp_im/3.nii.gz',\n",
       " '../dataset/covid-data/rp_im/4.nii.gz',\n",
       " '../dataset/covid-data/rp_im/5.nii.gz',\n",
       " '../dataset/covid-data/rp_im/6.nii.gz',\n",
       " '../dataset/covid-data/rp_im/7.nii.gz',\n",
       " '../dataset/covid-data/rp_im/8.nii.gz',\n",
       " '../dataset/covid-data/rp_im/9.nii.gz',\n",
       " '../dataset/covid-data/rp_msk/1.nii.gz',\n",
       " '../dataset/covid-data/rp_msk/2.nii.gz',\n",
       " '../dataset/covid-data/rp_msk/3.nii.gz',\n",
       " '../dataset/covid-data/rp_msk/4.nii.gz',\n",
       " '../dataset/covid-data/rp_msk/5.nii.gz',\n",
       " '../dataset/covid-data/rp_msk/6.nii.gz',\n",
       " '../dataset/covid-data/rp_msk/7.nii.gz',\n",
       " '../dataset/covid-data/rp_msk/8.nii.gz',\n",
       " '../dataset/covid-data/rp_msk/9.nii.gz']"
      ]
     },
     "execution_count": 13,
     "metadata": {},
     "output_type": "execute_result"
    }
   ],
   "source": [
    "glob('../dataset/covid-data/*/*')"
   ]
  },
  {
   "cell_type": "code",
   "execution_count": 15,
   "metadata": {},
   "outputs": [
    {
     "data": {
      "text/plain": [
       "['../dataset/covid-data/rp_im/5.nii.gz',\n",
       " '../dataset/covid-data/rp_im/6.nii.gz',\n",
       " '../dataset/covid-data/rp_im/7.nii.gz',\n",
       " '../dataset/covid-data/rp_im/8.nii.gz',\n",
       " '../dataset/covid-data/rp_im/9.nii.gz']"
      ]
     },
     "execution_count": 15,
     "metadata": {},
     "output_type": "execute_result"
    }
   ],
   "source": [
    "glob('../dataset/covid-data/rp_im/[5-9]*')"
   ]
  },
  {
   "cell_type": "markdown",
   "metadata": {},
   "source": [
    "## osとpathlib"
   ]
  },
  {
   "cell_type": "code",
   "execution_count": 17,
   "metadata": {},
   "outputs": [],
   "source": [
    "import os\n",
    "from pathlib import Path"
   ]
  },
  {
   "cell_type": "code",
   "execution_count": 18,
   "metadata": {},
   "outputs": [
    {
     "data": {
      "text/plain": [
       "PosixPath('../dataset/covid-data')"
      ]
     },
     "execution_count": 18,
     "metadata": {},
     "output_type": "execute_result"
    }
   ],
   "source": [
    "p = Path('../dataset/covid-data/')\n",
    "p"
   ]
  },
  {
   "cell_type": "code",
   "execution_count": 25,
   "metadata": {},
   "outputs": [
    {
     "data": {
      "text/plain": [
       "<generator object Path.iterdir at 0x7fc64af07050>"
      ]
     },
     "execution_count": 25,
     "metadata": {},
     "output_type": "execute_result"
    }
   ],
   "source": [
    "p_i = p.iterdir()\n",
    "p_i"
   ]
  },
  {
   "cell_type": "code",
   "execution_count": 26,
   "metadata": {},
   "outputs": [],
   "source": [
    "p_i_ = next(p_i)"
   ]
  },
  {
   "cell_type": "code",
   "execution_count": 27,
   "metadata": {},
   "outputs": [
    {
     "data": {
      "text/plain": [
       "PosixPath('../dataset/covid-data/rp_im')"
      ]
     },
     "execution_count": 27,
     "metadata": {},
     "output_type": "execute_result"
    }
   ],
   "source": [
    "p_i_"
   ]
  },
  {
   "cell_type": "code",
   "execution_count": 29,
   "metadata": {},
   "outputs": [],
   "source": [
    "p_i_i = p_i_.iterdir()"
   ]
  },
  {
   "cell_type": "code",
   "execution_count": 30,
   "metadata": {},
   "outputs": [
    {
     "data": {
      "text/plain": [
       "PosixPath('../dataset/covid-data/rp_im/1.nii.gz')"
      ]
     },
     "execution_count": 30,
     "metadata": {},
     "output_type": "execute_result"
    }
   ],
   "source": [
    "next(p_i_i)"
   ]
  },
  {
   "cell_type": "code",
   "execution_count": 33,
   "metadata": {},
   "outputs": [
    {
     "data": {
      "text/plain": [
       "[PosixPath('../dataset/covid-data/rp_im'),\n",
       " PosixPath('../dataset/covid-data/rp_msk')]"
      ]
     },
     "execution_count": 33,
     "metadata": {},
     "output_type": "execute_result"
    }
   ],
   "source": [
    "p = Path('../dataset/covid-data/')\n",
    "list(p.iterdir())"
   ]
  },
  {
   "cell_type": "code",
   "execution_count": 36,
   "metadata": {},
   "outputs": [
    {
     "data": {
      "text/plain": [
       "PosixPath('../dataset/covid-data/rp_im')"
      ]
     },
     "execution_count": 36,
     "metadata": {},
     "output_type": "execute_result"
    }
   ],
   "source": [
    "sub_p = list(p.iterdir())[0]\n",
    "sub_p"
   ]
  },
  {
   "cell_type": "code",
   "execution_count": 37,
   "metadata": {},
   "outputs": [
    {
     "data": {
      "text/plain": [
       "[PosixPath('../dataset/covid-data/rp_im/1.nii.gz'),\n",
       " PosixPath('../dataset/covid-data/rp_im/2.nii.gz'),\n",
       " PosixPath('../dataset/covid-data/rp_im/3.nii.gz'),\n",
       " PosixPath('../dataset/covid-data/rp_im/4.nii.gz'),\n",
       " PosixPath('../dataset/covid-data/rp_im/5.nii.gz'),\n",
       " PosixPath('../dataset/covid-data/rp_im/6.nii.gz'),\n",
       " PosixPath('../dataset/covid-data/rp_im/7.nii.gz'),\n",
       " PosixPath('../dataset/covid-data/rp_im/8.nii.gz'),\n",
       " PosixPath('../dataset/covid-data/rp_im/9.nii.gz')]"
      ]
     },
     "execution_count": 37,
     "metadata": {},
     "output_type": "execute_result"
    }
   ],
   "source": [
    "list(sub_p.iterdir())"
   ]
  },
  {
   "cell_type": "code",
   "execution_count": 38,
   "metadata": {},
   "outputs": [
    {
     "data": {
      "text/plain": [
       "<generator object Path.glob at 0x7fc64af07e50>"
      ]
     },
     "execution_count": 38,
     "metadata": {},
     "output_type": "execute_result"
    }
   ],
   "source": [
    "sub_p.glob('*[2-6]*')"
   ]
  },
  {
   "cell_type": "code",
   "execution_count": 39,
   "metadata": {},
   "outputs": [
    {
     "data": {
      "text/plain": [
       "[PosixPath('../dataset/covid-data/rp_im/2.nii.gz'),\n",
       " PosixPath('../dataset/covid-data/rp_im/3.nii.gz'),\n",
       " PosixPath('../dataset/covid-data/rp_im/4.nii.gz'),\n",
       " PosixPath('../dataset/covid-data/rp_im/5.nii.gz'),\n",
       " PosixPath('../dataset/covid-data/rp_im/6.nii.gz')]"
      ]
     },
     "execution_count": 39,
     "metadata": {},
     "output_type": "execute_result"
    }
   ],
   "source": [
    "list(sub_p.glob('*[2-6]*'))"
   ]
  },
  {
   "cell_type": "code",
   "execution_count": 41,
   "metadata": {},
   "outputs": [
    {
     "data": {
      "text/plain": [
       "PosixPath('../dataset/covid-data/rp_im/6.nii.gz')"
      ]
     },
     "execution_count": 41,
     "metadata": {},
     "output_type": "execute_result"
    }
   ],
   "source": [
    "target_file = list(sub_p.glob('*[6-9]*'))[0]\n",
    "target_file"
   ]
  },
  {
   "cell_type": "code",
   "execution_count": 42,
   "metadata": {},
   "outputs": [
    {
     "data": {
      "text/plain": [
       "('../dataset/covid-data/rp_im', '6.nii.gz')"
      ]
     },
     "execution_count": 42,
     "metadata": {},
     "output_type": "execute_result"
    }
   ],
   "source": [
    "# os.path.split: file名とpathに分ける。　file名：tail path:head\n",
    "os.path.split(target_file)"
   ]
  },
  {
   "cell_type": "code",
   "execution_count": 43,
   "metadata": {},
   "outputs": [
    {
     "data": {
      "text/plain": [
       "'../dataset/covid-data/rp_im'"
      ]
     },
     "execution_count": 43,
     "metadata": {},
     "output_type": "execute_result"
    }
   ],
   "source": [
    "folder_p, file_name = os.path.split(target_file)\n",
    "folder_p"
   ]
  },
  {
   "cell_type": "code",
   "execution_count": 44,
   "metadata": {},
   "outputs": [
    {
     "data": {
      "text/plain": [
       "'6.nii.gz'"
      ]
     },
     "execution_count": 44,
     "metadata": {},
     "output_type": "execute_result"
    }
   ],
   "source": [
    "file_name"
   ]
  },
  {
   "cell_type": "code",
   "execution_count": 45,
   "metadata": {},
   "outputs": [
    {
     "data": {
      "text/plain": [
       "'../dataset/covid-data/rp_im/6.nii.gz'"
      ]
     },
     "execution_count": 45,
     "metadata": {},
     "output_type": "execute_result"
    }
   ],
   "source": [
    "os.path.join(folder_p, file_name)"
   ]
  },
  {
   "cell_type": "markdown",
   "metadata": {},
   "source": [
    "## フォルダの作成"
   ]
  },
  {
   "cell_type": "code",
   "execution_count": 46,
   "metadata": {},
   "outputs": [
    {
     "data": {
      "text/plain": [
       "'../dataset/covid-data/new_folder'"
      ]
     },
     "execution_count": 46,
     "metadata": {},
     "output_type": "execute_result"
    }
   ],
   "source": [
    "p = Path('../dataset/covid-data/')\n",
    "new_folder_name = 'new_folder'\n",
    "new_folder_path = os.path.join(p, new_folder_name)\n",
    "new_folder_path"
   ]
  },
  {
   "cell_type": "markdown",
   "metadata": {},
   "source": [
    "### os.path.exists()：ファイル、ディレクトリ（フォルダ）の存在確認"
   ]
  },
  {
   "cell_type": "code",
   "execution_count": 47,
   "metadata": {},
   "outputs": [
    {
     "data": {
      "text/plain": [
       "False"
      ]
     },
     "execution_count": 47,
     "metadata": {},
     "output_type": "execute_result"
    }
   ],
   "source": [
    "os.path.exists(new_folder_path) # exists -> True, not exists -> False"
   ]
  },
  {
   "cell_type": "markdown",
   "metadata": {},
   "source": [
    "### os.makedirs()：ディレクトリ(フォルダ)を作成（すでに作成したいフォルダがあるとエラーになるため、if文で確認）"
   ]
  },
  {
   "cell_type": "code",
   "execution_count": 49,
   "metadata": {},
   "outputs": [],
   "source": [
    "if not os.path.exists(new_folder_path):\n",
    "    os.makedirs(new_folder_path)"
   ]
  },
  {
   "cell_type": "code",
   "execution_count": 50,
   "metadata": {},
   "outputs": [
    {
     "data": {
      "text/plain": [
       "True"
      ]
     },
     "execution_count": 50,
     "metadata": {},
     "output_type": "execute_result"
    }
   ],
   "source": [
    "os.path.exists(new_folder_path) # exists -> True, not exists -> False"
   ]
  },
  {
   "cell_type": "markdown",
   "metadata": {},
   "source": [
    "## tqdm：ループした際にプログレスバーを表示する"
   ]
  },
  {
   "cell_type": "code",
   "execution_count": 58,
   "metadata": {},
   "outputs": [],
   "source": [
    "from tqdm import tqdm\n",
    "import time"
   ]
  },
  {
   "cell_type": "code",
   "execution_count": 53,
   "metadata": {},
   "outputs": [
    {
     "name": "stderr",
     "output_type": "stream",
     "text": [
      "0it [00:00, ?it/s]"
     ]
    },
    {
     "data": {
      "text/plain": [
       "0it [00:00, ?it/s]"
      ]
     },
     "execution_count": 53,
     "metadata": {},
     "output_type": "execute_result"
    }
   ],
   "source": [
    "tqdm()"
   ]
  },
  {
   "cell_type": "code",
   "execution_count": 56,
   "metadata": {},
   "outputs": [],
   "source": [
    "a = [1, 2, 3]\n",
    "i = iter(a)"
   ]
  },
  {
   "cell_type": "code",
   "execution_count": 57,
   "metadata": {},
   "outputs": [
    {
     "data": {
      "text/plain": [
       "1"
      ]
     },
     "execution_count": 57,
     "metadata": {},
     "output_type": "execute_result"
    }
   ],
   "source": [
    "next(i)"
   ]
  },
  {
   "cell_type": "code",
   "execution_count": 62,
   "metadata": {},
   "outputs": [
    {
     "name": "stderr",
     "output_type": "stream",
     "text": [
      "100%|██████████| 1000000/1000000 [00:00<00:00, 1220469.70it/s]"
     ]
    },
    {
     "name": "stdout",
     "output_type": "stream",
     "text": [
      "1000000\n",
      "It took 0.8253560066223145s\n"
     ]
    },
    {
     "name": "stderr",
     "output_type": "stream",
     "text": [
      "\n"
     ]
    }
   ],
   "source": [
    "sum_ = 0\n",
    "before = time.time()\n",
    "for i in tqdm(range(int(1e6)), position=0): # tqdm:少し処理が遅くなる\n",
    "    sum_ += 1\n",
    "print(sum_)\n",
    "after = time.time()\n",
    "print(f'It took {after-before}s')"
   ]
  },
  {
   "cell_type": "code",
   "execution_count": 69,
   "metadata": {},
   "outputs": [
    {
     "data": {
      "text/plain": [
       "PosixPath('../dataset/covid-data')"
      ]
     },
     "execution_count": 69,
     "metadata": {},
     "output_type": "execute_result"
    }
   ],
   "source": [
    "p = Path('../dataset/covid-data/')\n",
    "p"
   ]
  },
  {
   "cell_type": "code",
   "execution_count": 72,
   "metadata": {},
   "outputs": [],
   "source": [
    "p_im = list(p.iterdir())[1]\n",
    "p_msk = list(p.iterdir())[2]"
   ]
  },
  {
   "cell_type": "code",
   "execution_count": 81,
   "metadata": {},
   "outputs": [
    {
     "data": {
      "text/plain": [
       "[PosixPath('../dataset/covid-data/rp_im/1.nii.gz'),\n",
       " PosixPath('../dataset/covid-data/rp_im/2.nii.gz'),\n",
       " PosixPath('../dataset/covid-data/rp_im/3.nii.gz'),\n",
       " PosixPath('../dataset/covid-data/rp_im/4.nii.gz'),\n",
       " PosixPath('../dataset/covid-data/rp_im/5.nii.gz'),\n",
       " PosixPath('../dataset/covid-data/rp_im/6.nii.gz'),\n",
       " PosixPath('../dataset/covid-data/rp_im/7.nii.gz'),\n",
       " PosixPath('../dataset/covid-data/rp_im/8.nii.gz'),\n",
       " PosixPath('../dataset/covid-data/rp_im/9.nii.gz')]"
      ]
     },
     "execution_count": 81,
     "metadata": {},
     "output_type": "execute_result"
    }
   ],
   "source": [
    "im_list = list(p_im.iterdir())\n",
    "msk_list = list(p_msk.iterdir())\n",
    "im_list"
   ]
  },
  {
   "cell_type": "code",
   "execution_count": 88,
   "metadata": {},
   "outputs": [],
   "source": [
    "file_name_list = []\n",
    "for p in im_list:\n",
    "    head, tail = os.path.split(p)\n",
    "    file_name_list.append(tail)"
   ]
  },
  {
   "cell_type": "code",
   "execution_count": 89,
   "metadata": {},
   "outputs": [
    {
     "data": {
      "text/plain": [
       "['1.nii.gz',\n",
       " '2.nii.gz',\n",
       " '3.nii.gz',\n",
       " '4.nii.gz',\n",
       " '5.nii.gz',\n",
       " '6.nii.gz',\n",
       " '7.nii.gz',\n",
       " '8.nii.gz',\n",
       " '9.nii.gz']"
      ]
     },
     "execution_count": 89,
     "metadata": {},
     "output_type": "execute_result"
    }
   ],
   "source": [
    "file_name_list"
   ]
  },
  {
   "cell_type": "code",
   "execution_count": 93,
   "metadata": {},
   "outputs": [
    {
     "data": {
      "text/html": [
       "<div>\n",
       "<style scoped>\n",
       "    .dataframe tbody tr th:only-of-type {\n",
       "        vertical-align: middle;\n",
       "    }\n",
       "\n",
       "    .dataframe tbody tr th {\n",
       "        vertical-align: top;\n",
       "    }\n",
       "\n",
       "    .dataframe thead th {\n",
       "        text-align: right;\n",
       "    }\n",
       "</style>\n",
       "<table border=\"1\" class=\"dataframe\">\n",
       "  <thead>\n",
       "    <tr style=\"text-align: right;\">\n",
       "      <th></th>\n",
       "      <th>path_im</th>\n",
       "      <th>file_name</th>\n",
       "      <th>path_msk</th>\n",
       "    </tr>\n",
       "  </thead>\n",
       "  <tbody>\n",
       "    <tr>\n",
       "      <th>0</th>\n",
       "      <td>../dataset/covid-data/rp_im/1.nii.gz</td>\n",
       "      <td>1.nii.gz</td>\n",
       "      <td>../dataset/covid-data/rp_msk/1.nii.gz</td>\n",
       "    </tr>\n",
       "    <tr>\n",
       "      <th>1</th>\n",
       "      <td>../dataset/covid-data/rp_im/2.nii.gz</td>\n",
       "      <td>2.nii.gz</td>\n",
       "      <td>../dataset/covid-data/rp_msk/2.nii.gz</td>\n",
       "    </tr>\n",
       "    <tr>\n",
       "      <th>2</th>\n",
       "      <td>../dataset/covid-data/rp_im/3.nii.gz</td>\n",
       "      <td>3.nii.gz</td>\n",
       "      <td>../dataset/covid-data/rp_msk/3.nii.gz</td>\n",
       "    </tr>\n",
       "    <tr>\n",
       "      <th>3</th>\n",
       "      <td>../dataset/covid-data/rp_im/4.nii.gz</td>\n",
       "      <td>4.nii.gz</td>\n",
       "      <td>../dataset/covid-data/rp_msk/4.nii.gz</td>\n",
       "    </tr>\n",
       "    <tr>\n",
       "      <th>4</th>\n",
       "      <td>../dataset/covid-data/rp_im/5.nii.gz</td>\n",
       "      <td>5.nii.gz</td>\n",
       "      <td>../dataset/covid-data/rp_msk/5.nii.gz</td>\n",
       "    </tr>\n",
       "    <tr>\n",
       "      <th>5</th>\n",
       "      <td>../dataset/covid-data/rp_im/6.nii.gz</td>\n",
       "      <td>6.nii.gz</td>\n",
       "      <td>../dataset/covid-data/rp_msk/6.nii.gz</td>\n",
       "    </tr>\n",
       "    <tr>\n",
       "      <th>6</th>\n",
       "      <td>../dataset/covid-data/rp_im/7.nii.gz</td>\n",
       "      <td>7.nii.gz</td>\n",
       "      <td>../dataset/covid-data/rp_msk/7.nii.gz</td>\n",
       "    </tr>\n",
       "    <tr>\n",
       "      <th>7</th>\n",
       "      <td>../dataset/covid-data/rp_im/8.nii.gz</td>\n",
       "      <td>8.nii.gz</td>\n",
       "      <td>../dataset/covid-data/rp_msk/8.nii.gz</td>\n",
       "    </tr>\n",
       "    <tr>\n",
       "      <th>8</th>\n",
       "      <td>../dataset/covid-data/rp_im/9.nii.gz</td>\n",
       "      <td>9.nii.gz</td>\n",
       "      <td>../dataset/covid-data/rp_msk/9.nii.gz</td>\n",
       "    </tr>\n",
       "  </tbody>\n",
       "</table>\n",
       "</div>"
      ],
      "text/plain": [
       "                                path_im file_name  \\\n",
       "0  ../dataset/covid-data/rp_im/1.nii.gz  1.nii.gz   \n",
       "1  ../dataset/covid-data/rp_im/2.nii.gz  2.nii.gz   \n",
       "2  ../dataset/covid-data/rp_im/3.nii.gz  3.nii.gz   \n",
       "3  ../dataset/covid-data/rp_im/4.nii.gz  4.nii.gz   \n",
       "4  ../dataset/covid-data/rp_im/5.nii.gz  5.nii.gz   \n",
       "5  ../dataset/covid-data/rp_im/6.nii.gz  6.nii.gz   \n",
       "6  ../dataset/covid-data/rp_im/7.nii.gz  7.nii.gz   \n",
       "7  ../dataset/covid-data/rp_im/8.nii.gz  8.nii.gz   \n",
       "8  ../dataset/covid-data/rp_im/9.nii.gz  9.nii.gz   \n",
       "\n",
       "                                path_msk  \n",
       "0  ../dataset/covid-data/rp_msk/1.nii.gz  \n",
       "1  ../dataset/covid-data/rp_msk/2.nii.gz  \n",
       "2  ../dataset/covid-data/rp_msk/3.nii.gz  \n",
       "3  ../dataset/covid-data/rp_msk/4.nii.gz  \n",
       "4  ../dataset/covid-data/rp_msk/5.nii.gz  \n",
       "5  ../dataset/covid-data/rp_msk/6.nii.gz  \n",
       "6  ../dataset/covid-data/rp_msk/7.nii.gz  \n",
       "7  ../dataset/covid-data/rp_msk/8.nii.gz  \n",
       "8  ../dataset/covid-data/rp_msk/9.nii.gz  "
      ]
     },
     "execution_count": 93,
     "metadata": {},
     "output_type": "execute_result"
    }
   ],
   "source": [
    "path_df = pd.DataFrame({\n",
    "    'path_im': im_list,\n",
    "    'file_name': file_name_list,\n",
    "    'path_msk': msk_list\n",
    "})\n",
    "path_df"
   ]
  },
  {
   "cell_type": "code",
   "execution_count": 138,
   "metadata": {},
   "outputs": [],
   "source": [
    "# かめ\n",
    "p = Path('../dataset/covid-data/')\n",
    "df_list = []\n",
    "for folder in p.iterdir():\n",
    "    path_list = [p.as_posix() for p in list(folder.iterdir())]\n",
    "    file_list = [os.path.split(p)[1]  for p in list(folder.iterdir())]\n",
    "    df_list.append(pd.DataFrame({\n",
    "        'path': path_list,\n",
    "        'filename': file_list\n",
    "    }))"
   ]
  },
  {
   "cell_type": "code",
   "execution_count": 141,
   "metadata": {},
   "outputs": [
    {
     "data": {
      "text/html": [
       "<div>\n",
       "<style scoped>\n",
       "    .dataframe tbody tr th:only-of-type {\n",
       "        vertical-align: middle;\n",
       "    }\n",
       "\n",
       "    .dataframe tbody tr th {\n",
       "        vertical-align: top;\n",
       "    }\n",
       "\n",
       "    .dataframe thead th {\n",
       "        text-align: right;\n",
       "    }\n",
       "</style>\n",
       "<table border=\"1\" class=\"dataframe\">\n",
       "  <thead>\n",
       "    <tr style=\"text-align: right;\">\n",
       "      <th></th>\n",
       "      <th>path</th>\n",
       "      <th>filename</th>\n",
       "    </tr>\n",
       "  </thead>\n",
       "  <tbody>\n",
       "    <tr>\n",
       "      <th>0</th>\n",
       "      <td>../dataset/covid-data/rp_im/1.nii.gz</td>\n",
       "      <td>1.nii.gz</td>\n",
       "    </tr>\n",
       "    <tr>\n",
       "      <th>1</th>\n",
       "      <td>../dataset/covid-data/rp_im/2.nii.gz</td>\n",
       "      <td>2.nii.gz</td>\n",
       "    </tr>\n",
       "    <tr>\n",
       "      <th>2</th>\n",
       "      <td>../dataset/covid-data/rp_im/3.nii.gz</td>\n",
       "      <td>3.nii.gz</td>\n",
       "    </tr>\n",
       "    <tr>\n",
       "      <th>3</th>\n",
       "      <td>../dataset/covid-data/rp_im/4.nii.gz</td>\n",
       "      <td>4.nii.gz</td>\n",
       "    </tr>\n",
       "    <tr>\n",
       "      <th>4</th>\n",
       "      <td>../dataset/covid-data/rp_im/5.nii.gz</td>\n",
       "      <td>5.nii.gz</td>\n",
       "    </tr>\n",
       "    <tr>\n",
       "      <th>5</th>\n",
       "      <td>../dataset/covid-data/rp_im/6.nii.gz</td>\n",
       "      <td>6.nii.gz</td>\n",
       "    </tr>\n",
       "    <tr>\n",
       "      <th>6</th>\n",
       "      <td>../dataset/covid-data/rp_im/7.nii.gz</td>\n",
       "      <td>7.nii.gz</td>\n",
       "    </tr>\n",
       "    <tr>\n",
       "      <th>7</th>\n",
       "      <td>../dataset/covid-data/rp_im/8.nii.gz</td>\n",
       "      <td>8.nii.gz</td>\n",
       "    </tr>\n",
       "    <tr>\n",
       "      <th>8</th>\n",
       "      <td>../dataset/covid-data/rp_im/9.nii.gz</td>\n",
       "      <td>9.nii.gz</td>\n",
       "    </tr>\n",
       "  </tbody>\n",
       "</table>\n",
       "</div>"
      ],
      "text/plain": [
       "                                   path  filename\n",
       "0  ../dataset/covid-data/rp_im/1.nii.gz  1.nii.gz\n",
       "1  ../dataset/covid-data/rp_im/2.nii.gz  2.nii.gz\n",
       "2  ../dataset/covid-data/rp_im/3.nii.gz  3.nii.gz\n",
       "3  ../dataset/covid-data/rp_im/4.nii.gz  4.nii.gz\n",
       "4  ../dataset/covid-data/rp_im/5.nii.gz  5.nii.gz\n",
       "5  ../dataset/covid-data/rp_im/6.nii.gz  6.nii.gz\n",
       "6  ../dataset/covid-data/rp_im/7.nii.gz  7.nii.gz\n",
       "7  ../dataset/covid-data/rp_im/8.nii.gz  8.nii.gz\n",
       "8  ../dataset/covid-data/rp_im/9.nii.gz  9.nii.gz"
      ]
     },
     "execution_count": 141,
     "metadata": {},
     "output_type": "execute_result"
    }
   ],
   "source": [
    "df_list[1]"
   ]
  },
  {
   "cell_type": "code",
   "execution_count": 142,
   "metadata": {},
   "outputs": [
    {
     "data": {
      "text/plain": [
       "['1.nii.gz',\n",
       " '2.nii.gz',\n",
       " '3.nii.gz',\n",
       " '4.nii.gz',\n",
       " '5.nii.gz',\n",
       " '6.nii.gz',\n",
       " '7.nii.gz',\n",
       " '8.nii.gz',\n",
       " '9.nii.gz']"
      ]
     },
     "execution_count": 142,
     "metadata": {},
     "output_type": "execute_result"
    }
   ],
   "source": [
    "file_list"
   ]
  },
  {
   "cell_type": "code",
   "execution_count": 143,
   "metadata": {},
   "outputs": [
    {
     "data": {
      "text/html": [
       "<div>\n",
       "<style scoped>\n",
       "    .dataframe tbody tr th:only-of-type {\n",
       "        vertical-align: middle;\n",
       "    }\n",
       "\n",
       "    .dataframe tbody tr th {\n",
       "        vertical-align: top;\n",
       "    }\n",
       "\n",
       "    .dataframe thead th {\n",
       "        text-align: right;\n",
       "    }\n",
       "</style>\n",
       "<table border=\"1\" class=\"dataframe\">\n",
       "  <thead>\n",
       "    <tr style=\"text-align: right;\">\n",
       "      <th></th>\n",
       "      <th>path</th>\n",
       "      <th>filename</th>\n",
       "    </tr>\n",
       "  </thead>\n",
       "  <tbody>\n",
       "    <tr>\n",
       "      <th>0</th>\n",
       "      <td>../dataset/covid-data/rp_im/1.nii.gz</td>\n",
       "      <td>1.nii.gz</td>\n",
       "    </tr>\n",
       "    <tr>\n",
       "      <th>1</th>\n",
       "      <td>../dataset/covid-data/rp_im/2.nii.gz</td>\n",
       "      <td>2.nii.gz</td>\n",
       "    </tr>\n",
       "    <tr>\n",
       "      <th>2</th>\n",
       "      <td>../dataset/covid-data/rp_im/3.nii.gz</td>\n",
       "      <td>3.nii.gz</td>\n",
       "    </tr>\n",
       "    <tr>\n",
       "      <th>3</th>\n",
       "      <td>../dataset/covid-data/rp_im/4.nii.gz</td>\n",
       "      <td>4.nii.gz</td>\n",
       "    </tr>\n",
       "    <tr>\n",
       "      <th>4</th>\n",
       "      <td>../dataset/covid-data/rp_im/5.nii.gz</td>\n",
       "      <td>5.nii.gz</td>\n",
       "    </tr>\n",
       "    <tr>\n",
       "      <th>5</th>\n",
       "      <td>../dataset/covid-data/rp_im/6.nii.gz</td>\n",
       "      <td>6.nii.gz</td>\n",
       "    </tr>\n",
       "    <tr>\n",
       "      <th>6</th>\n",
       "      <td>../dataset/covid-data/rp_im/7.nii.gz</td>\n",
       "      <td>7.nii.gz</td>\n",
       "    </tr>\n",
       "    <tr>\n",
       "      <th>7</th>\n",
       "      <td>../dataset/covid-data/rp_im/8.nii.gz</td>\n",
       "      <td>8.nii.gz</td>\n",
       "    </tr>\n",
       "    <tr>\n",
       "      <th>8</th>\n",
       "      <td>../dataset/covid-data/rp_im/9.nii.gz</td>\n",
       "      <td>9.nii.gz</td>\n",
       "    </tr>\n",
       "  </tbody>\n",
       "</table>\n",
       "</div>"
      ],
      "text/plain": [
       "                                   path  filename\n",
       "0  ../dataset/covid-data/rp_im/1.nii.gz  1.nii.gz\n",
       "1  ../dataset/covid-data/rp_im/2.nii.gz  2.nii.gz\n",
       "2  ../dataset/covid-data/rp_im/3.nii.gz  3.nii.gz\n",
       "3  ../dataset/covid-data/rp_im/4.nii.gz  4.nii.gz\n",
       "4  ../dataset/covid-data/rp_im/5.nii.gz  5.nii.gz\n",
       "5  ../dataset/covid-data/rp_im/6.nii.gz  6.nii.gz\n",
       "6  ../dataset/covid-data/rp_im/7.nii.gz  7.nii.gz\n",
       "7  ../dataset/covid-data/rp_im/8.nii.gz  8.nii.gz\n",
       "8  ../dataset/covid-data/rp_im/9.nii.gz  9.nii.gz"
      ]
     },
     "execution_count": 143,
     "metadata": {},
     "output_type": "execute_result"
    }
   ],
   "source": [
    "df_list[1]"
   ]
  },
  {
   "cell_type": "code",
   "execution_count": 150,
   "metadata": {},
   "outputs": [
    {
     "data": {
      "text/html": [
       "<div>\n",
       "<style scoped>\n",
       "    .dataframe tbody tr th:only-of-type {\n",
       "        vertical-align: middle;\n",
       "    }\n",
       "\n",
       "    .dataframe tbody tr th {\n",
       "        vertical-align: top;\n",
       "    }\n",
       "\n",
       "    .dataframe thead th {\n",
       "        text-align: right;\n",
       "    }\n",
       "</style>\n",
       "<table border=\"1\" class=\"dataframe\">\n",
       "  <thead>\n",
       "    <tr style=\"text-align: right;\">\n",
       "      <th></th>\n",
       "      <th>path</th>\n",
       "      <th>filename</th>\n",
       "    </tr>\n",
       "  </thead>\n",
       "  <tbody>\n",
       "    <tr>\n",
       "      <th>0</th>\n",
       "      <td>../dataset/covid-data/rp_msk/1.nii.gz</td>\n",
       "      <td>1.nii.gz</td>\n",
       "    </tr>\n",
       "    <tr>\n",
       "      <th>1</th>\n",
       "      <td>../dataset/covid-data/rp_msk/2.nii.gz</td>\n",
       "      <td>2.nii.gz</td>\n",
       "    </tr>\n",
       "    <tr>\n",
       "      <th>2</th>\n",
       "      <td>../dataset/covid-data/rp_msk/3.nii.gz</td>\n",
       "      <td>3.nii.gz</td>\n",
       "    </tr>\n",
       "    <tr>\n",
       "      <th>3</th>\n",
       "      <td>../dataset/covid-data/rp_msk/4.nii.gz</td>\n",
       "      <td>4.nii.gz</td>\n",
       "    </tr>\n",
       "    <tr>\n",
       "      <th>4</th>\n",
       "      <td>../dataset/covid-data/rp_msk/5.nii.gz</td>\n",
       "      <td>5.nii.gz</td>\n",
       "    </tr>\n",
       "    <tr>\n",
       "      <th>5</th>\n",
       "      <td>../dataset/covid-data/rp_msk/6.nii.gz</td>\n",
       "      <td>6.nii.gz</td>\n",
       "    </tr>\n",
       "    <tr>\n",
       "      <th>6</th>\n",
       "      <td>../dataset/covid-data/rp_msk/7.nii.gz</td>\n",
       "      <td>7.nii.gz</td>\n",
       "    </tr>\n",
       "    <tr>\n",
       "      <th>7</th>\n",
       "      <td>../dataset/covid-data/rp_msk/8.nii.gz</td>\n",
       "      <td>8.nii.gz</td>\n",
       "    </tr>\n",
       "    <tr>\n",
       "      <th>8</th>\n",
       "      <td>../dataset/covid-data/rp_msk/9.nii.gz</td>\n",
       "      <td>9.nii.gz</td>\n",
       "    </tr>\n",
       "  </tbody>\n",
       "</table>\n",
       "</div>"
      ],
      "text/plain": [
       "                                    path  filename\n",
       "0  ../dataset/covid-data/rp_msk/1.nii.gz  1.nii.gz\n",
       "1  ../dataset/covid-data/rp_msk/2.nii.gz  2.nii.gz\n",
       "2  ../dataset/covid-data/rp_msk/3.nii.gz  3.nii.gz\n",
       "3  ../dataset/covid-data/rp_msk/4.nii.gz  4.nii.gz\n",
       "4  ../dataset/covid-data/rp_msk/5.nii.gz  5.nii.gz\n",
       "5  ../dataset/covid-data/rp_msk/6.nii.gz  6.nii.gz\n",
       "6  ../dataset/covid-data/rp_msk/7.nii.gz  7.nii.gz\n",
       "7  ../dataset/covid-data/rp_msk/8.nii.gz  8.nii.gz\n",
       "8  ../dataset/covid-data/rp_msk/9.nii.gz  9.nii.gz"
      ]
     },
     "execution_count": 150,
     "metadata": {},
     "output_type": "execute_result"
    }
   ],
   "source": [
    "df_list[2]"
   ]
  },
  {
   "cell_type": "code",
   "execution_count": 153,
   "metadata": {},
   "outputs": [
    {
     "data": {
      "text/html": [
       "<div>\n",
       "<style scoped>\n",
       "    .dataframe tbody tr th:only-of-type {\n",
       "        vertical-align: middle;\n",
       "    }\n",
       "\n",
       "    .dataframe tbody tr th {\n",
       "        vertical-align: top;\n",
       "    }\n",
       "\n",
       "    .dataframe thead th {\n",
       "        text-align: right;\n",
       "    }\n",
       "</style>\n",
       "<table border=\"1\" class=\"dataframe\">\n",
       "  <thead>\n",
       "    <tr style=\"text-align: right;\">\n",
       "      <th></th>\n",
       "      <th>path_im</th>\n",
       "      <th>filename</th>\n",
       "      <th>path_msk</th>\n",
       "    </tr>\n",
       "  </thead>\n",
       "  <tbody>\n",
       "    <tr>\n",
       "      <th>0</th>\n",
       "      <td>../dataset/covid-data/rp_im/1.nii.gz</td>\n",
       "      <td>1.nii.gz</td>\n",
       "      <td>../dataset/covid-data/rp_msk/1.nii.gz</td>\n",
       "    </tr>\n",
       "    <tr>\n",
       "      <th>1</th>\n",
       "      <td>../dataset/covid-data/rp_im/2.nii.gz</td>\n",
       "      <td>2.nii.gz</td>\n",
       "      <td>../dataset/covid-data/rp_msk/2.nii.gz</td>\n",
       "    </tr>\n",
       "    <tr>\n",
       "      <th>2</th>\n",
       "      <td>../dataset/covid-data/rp_im/3.nii.gz</td>\n",
       "      <td>3.nii.gz</td>\n",
       "      <td>../dataset/covid-data/rp_msk/3.nii.gz</td>\n",
       "    </tr>\n",
       "    <tr>\n",
       "      <th>3</th>\n",
       "      <td>../dataset/covid-data/rp_im/4.nii.gz</td>\n",
       "      <td>4.nii.gz</td>\n",
       "      <td>../dataset/covid-data/rp_msk/4.nii.gz</td>\n",
       "    </tr>\n",
       "    <tr>\n",
       "      <th>4</th>\n",
       "      <td>../dataset/covid-data/rp_im/5.nii.gz</td>\n",
       "      <td>5.nii.gz</td>\n",
       "      <td>../dataset/covid-data/rp_msk/5.nii.gz</td>\n",
       "    </tr>\n",
       "    <tr>\n",
       "      <th>5</th>\n",
       "      <td>../dataset/covid-data/rp_im/6.nii.gz</td>\n",
       "      <td>6.nii.gz</td>\n",
       "      <td>../dataset/covid-data/rp_msk/6.nii.gz</td>\n",
       "    </tr>\n",
       "    <tr>\n",
       "      <th>6</th>\n",
       "      <td>../dataset/covid-data/rp_im/7.nii.gz</td>\n",
       "      <td>7.nii.gz</td>\n",
       "      <td>../dataset/covid-data/rp_msk/7.nii.gz</td>\n",
       "    </tr>\n",
       "    <tr>\n",
       "      <th>7</th>\n",
       "      <td>../dataset/covid-data/rp_im/8.nii.gz</td>\n",
       "      <td>8.nii.gz</td>\n",
       "      <td>../dataset/covid-data/rp_msk/8.nii.gz</td>\n",
       "    </tr>\n",
       "    <tr>\n",
       "      <th>8</th>\n",
       "      <td>../dataset/covid-data/rp_im/9.nii.gz</td>\n",
       "      <td>9.nii.gz</td>\n",
       "      <td>../dataset/covid-data/rp_msk/9.nii.gz</td>\n",
       "    </tr>\n",
       "  </tbody>\n",
       "</table>\n",
       "</div>"
      ],
      "text/plain": [
       "                                path_im  filename  \\\n",
       "0  ../dataset/covid-data/rp_im/1.nii.gz  1.nii.gz   \n",
       "1  ../dataset/covid-data/rp_im/2.nii.gz  2.nii.gz   \n",
       "2  ../dataset/covid-data/rp_im/3.nii.gz  3.nii.gz   \n",
       "3  ../dataset/covid-data/rp_im/4.nii.gz  4.nii.gz   \n",
       "4  ../dataset/covid-data/rp_im/5.nii.gz  5.nii.gz   \n",
       "5  ../dataset/covid-data/rp_im/6.nii.gz  6.nii.gz   \n",
       "6  ../dataset/covid-data/rp_im/7.nii.gz  7.nii.gz   \n",
       "7  ../dataset/covid-data/rp_im/8.nii.gz  8.nii.gz   \n",
       "8  ../dataset/covid-data/rp_im/9.nii.gz  9.nii.gz   \n",
       "\n",
       "                                path_msk  \n",
       "0  ../dataset/covid-data/rp_msk/1.nii.gz  \n",
       "1  ../dataset/covid-data/rp_msk/2.nii.gz  \n",
       "2  ../dataset/covid-data/rp_msk/3.nii.gz  \n",
       "3  ../dataset/covid-data/rp_msk/4.nii.gz  \n",
       "4  ../dataset/covid-data/rp_msk/5.nii.gz  \n",
       "5  ../dataset/covid-data/rp_msk/6.nii.gz  \n",
       "6  ../dataset/covid-data/rp_msk/7.nii.gz  \n",
       "7  ../dataset/covid-data/rp_msk/8.nii.gz  \n",
       "8  ../dataset/covid-data/rp_msk/9.nii.gz  "
      ]
     },
     "execution_count": 153,
     "metadata": {},
     "output_type": "execute_result"
    }
   ],
   "source": [
    "df = df_list[1].merge(df_list[2], on='filename', suffixes=('_im', '_msk'))\n",
    "df"
   ]
  },
  {
   "cell_type": "code",
   "execution_count": 156,
   "metadata": {},
   "outputs": [
    {
     "name": "stderr",
     "output_type": "stream",
     "text": [
      "\n",
      "100%|██████████| 9/9 [00:00<00:00, 1980.63it/s]"
     ]
    },
    {
     "name": "stdout",
     "output_type": "stream",
     "text": [
      "0 ../dataset/covid-data/rp_im/1.nii.gz\n",
      "1 ../dataset/covid-data/rp_im/2.nii.gz\n",
      "2 ../dataset/covid-data/rp_im/3.nii.gz\n",
      "3 ../dataset/covid-data/rp_im/4.nii.gz\n",
      "4 ../dataset/covid-data/rp_im/5.nii.gz\n",
      "5 ../dataset/covid-data/rp_im/6.nii.gz\n",
      "6 ../dataset/covid-data/rp_im/7.nii.gz\n",
      "7 ../dataset/covid-data/rp_im/8.nii.gz\n",
      "8 ../dataset/covid-data/rp_im/9.nii.gz\n"
     ]
    },
    {
     "name": "stderr",
     "output_type": "stream",
     "text": [
      "\n"
     ]
    }
   ],
   "source": [
    "for idx, row in tqdm(df.iterrows(), total=len(df)): # total=全体の数\n",
    "    print(idx, row['path_im'])"
   ]
  },
  {
   "cell_type": "code",
   "execution_count": 114,
   "metadata": {},
   "outputs": [
    {
     "data": {
      "text/plain": [
       "[PosixPath('../dataset/covid-data/rp_msk/1.nii.gz'),\n",
       " PosixPath('../dataset/covid-data/rp_msk/2.nii.gz'),\n",
       " PosixPath('../dataset/covid-data/rp_msk/3.nii.gz'),\n",
       " PosixPath('../dataset/covid-data/rp_msk/4.nii.gz'),\n",
       " PosixPath('../dataset/covid-data/rp_msk/5.nii.gz'),\n",
       " PosixPath('../dataset/covid-data/rp_msk/6.nii.gz'),\n",
       " PosixPath('../dataset/covid-data/rp_msk/7.nii.gz'),\n",
       " PosixPath('../dataset/covid-data/rp_msk/8.nii.gz'),\n",
       " PosixPath('../dataset/covid-data/rp_msk/9.nii.gz')]"
      ]
     },
     "execution_count": 114,
     "metadata": {},
     "output_type": "execute_result"
    }
   ],
   "source": [
    "list(folder.iterdir())"
   ]
  },
  {
   "cell_type": "code",
   "execution_count": 111,
   "metadata": {},
   "outputs": [
    {
     "data": {
      "text/plain": [
       "[PosixPath('../dataset/covid-data/rp_im/1.nii.gz'),\n",
       " PosixPath('../dataset/covid-data/rp_im/2.nii.gz'),\n",
       " PosixPath('../dataset/covid-data/rp_im/3.nii.gz'),\n",
       " PosixPath('../dataset/covid-data/rp_im/4.nii.gz'),\n",
       " PosixPath('../dataset/covid-data/rp_im/5.nii.gz'),\n",
       " PosixPath('../dataset/covid-data/rp_im/6.nii.gz'),\n",
       " PosixPath('../dataset/covid-data/rp_im/7.nii.gz'),\n",
       " PosixPath('../dataset/covid-data/rp_im/8.nii.gz'),\n",
       " PosixPath('../dataset/covid-data/rp_im/9.nii.gz')]"
      ]
     },
     "execution_count": 111,
     "metadata": {},
     "output_type": "execute_result"
    }
   ],
   "source": [
    "subp = list(p.iterdir())[1]\n",
    "list(subp.iterdir())"
   ]
  },
  {
   "cell_type": "code",
   "execution_count": 123,
   "metadata": {},
   "outputs": [
    {
     "data": {
      "text/plain": [
       "['../dataset/covid-data/rp_msk/1.nii.gz',\n",
       " '../dataset/covid-data/rp_msk/2.nii.gz',\n",
       " '../dataset/covid-data/rp_msk/3.nii.gz',\n",
       " '../dataset/covid-data/rp_msk/4.nii.gz',\n",
       " '../dataset/covid-data/rp_msk/5.nii.gz',\n",
       " '../dataset/covid-data/rp_msk/6.nii.gz',\n",
       " '../dataset/covid-data/rp_msk/7.nii.gz',\n",
       " '../dataset/covid-data/rp_msk/8.nii.gz',\n",
       " '../dataset/covid-data/rp_msk/9.nii.gz']"
      ]
     },
     "execution_count": 123,
     "metadata": {},
     "output_type": "execute_result"
    }
   ],
   "source": [
    "im_list = [p.as_posix() for p in list(folder.iterdir())]\n",
    "im_list"
   ]
  },
  {
   "cell_type": "code",
   "execution_count": 122,
   "metadata": {},
   "outputs": [
    {
     "name": "stdout",
     "output_type": "stream",
     "text": [
      "../dataset/covid-data/rp_msk/1.nii.gz\n",
      "../dataset/covid-data/rp_msk/2.nii.gz\n",
      "../dataset/covid-data/rp_msk/3.nii.gz\n",
      "../dataset/covid-data/rp_msk/4.nii.gz\n",
      "../dataset/covid-data/rp_msk/5.nii.gz\n",
      "../dataset/covid-data/rp_msk/6.nii.gz\n",
      "../dataset/covid-data/rp_msk/7.nii.gz\n",
      "../dataset/covid-data/rp_msk/8.nii.gz\n",
      "../dataset/covid-data/rp_msk/9.nii.gz\n"
     ]
    }
   ],
   "source": [
    "for p in folder.iterdir():\n",
    "    print(p)"
   ]
  },
  {
   "cell_type": "code",
   "execution_count": 110,
   "metadata": {},
   "outputs": [
    {
     "data": {
      "text/plain": [
       "'../dataset/covid-data/rp_im'"
      ]
     },
     "execution_count": 110,
     "metadata": {},
     "output_type": "execute_result"
    }
   ],
   "source": [
    "subp.as_posix()"
   ]
  },
  {
   "cell_type": "code",
   "execution_count": 108,
   "metadata": {},
   "outputs": [
    {
     "data": {
      "text/plain": [
       "'../dataset/covid-data/rp_msk/2.nii.gz'"
      ]
     },
     "execution_count": 108,
     "metadata": {},
     "output_type": "execute_result"
    }
   ],
   "source": [
    "str(subp)"
   ]
  },
  {
   "cell_type": "code",
   "execution_count": null,
   "metadata": {},
   "outputs": [],
   "source": []
  }
 ],
 "metadata": {
  "kernelspec": {
   "display_name": "Python 3",
   "language": "python",
   "name": "python3"
  },
  "language_info": {
   "codemirror_mode": {
    "name": "ipython",
    "version": 3
   },
   "file_extension": ".py",
   "mimetype": "text/x-python",
   "name": "python",
   "nbconvert_exporter": "python",
   "pygments_lexer": "ipython3",
   "version": "3.7.6"
  }
 },
 "nbformat": 4,
 "nbformat_minor": 4
}
